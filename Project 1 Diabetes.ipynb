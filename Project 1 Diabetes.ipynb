{
 "cells": [
  {
   "cell_type": "markdown",
   "metadata": {},
   "source": [
    "# Project Diabetes\n",
    "##### Data from the hospital Frankfurt, Germany (source: Kaggle)"
   ]
  },
  {
   "cell_type": "markdown",
   "metadata": {},
   "source": [
    "## 1. Import Libraries and Loading The Dataset"
   ]
  },
  {
   "cell_type": "code",
   "execution_count": 1,
   "metadata": {},
   "outputs": [],
   "source": [
    "# Import Libraries\n",
    "import numpy as np # linear algebra\n",
    "import pandas as pd # data processing, CSV file I/O (e.g. pd.read_csv)\n",
    "import matplotlib.pyplot as plt # Visualization\n",
    "import seaborn as sns # Visualization\n",
    "from sklearn.model_selection import train_test_split, GridSearchCV, cross_val_score #Machine learning\n",
    "from sklearn.metrics import confusion_matrix, accuracy_score, classification_report #Machine learning\n",
    "from sklearn.metrics import roc_auc_score,roc_curve #Machine learning"
   ]
  },
  {
   "cell_type": "code",
   "execution_count": 2,
   "metadata": {},
   "outputs": [
    {
     "data": {
      "text/html": [
       "<div>\n",
       "<style scoped>\n",
       "    .dataframe tbody tr th:only-of-type {\n",
       "        vertical-align: middle;\n",
       "    }\n",
       "\n",
       "    .dataframe tbody tr th {\n",
       "        vertical-align: top;\n",
       "    }\n",
       "\n",
       "    .dataframe thead th {\n",
       "        text-align: right;\n",
       "    }\n",
       "</style>\n",
       "<table border=\"1\" class=\"dataframe\">\n",
       "  <thead>\n",
       "    <tr style=\"text-align: right;\">\n",
       "      <th></th>\n",
       "      <th>Pregnancies</th>\n",
       "      <th>Glucose</th>\n",
       "      <th>BloodPressure</th>\n",
       "      <th>SkinThickness</th>\n",
       "      <th>Insulin</th>\n",
       "      <th>BMI</th>\n",
       "      <th>DiabetesPedigreeFunction</th>\n",
       "      <th>Age</th>\n",
       "      <th>Outcome</th>\n",
       "    </tr>\n",
       "  </thead>\n",
       "  <tbody>\n",
       "    <tr>\n",
       "      <th>0</th>\n",
       "      <td>2</td>\n",
       "      <td>138</td>\n",
       "      <td>62</td>\n",
       "      <td>35</td>\n",
       "      <td>0</td>\n",
       "      <td>33.6</td>\n",
       "      <td>0.127</td>\n",
       "      <td>47</td>\n",
       "      <td>1</td>\n",
       "    </tr>\n",
       "    <tr>\n",
       "      <th>1</th>\n",
       "      <td>0</td>\n",
       "      <td>84</td>\n",
       "      <td>82</td>\n",
       "      <td>31</td>\n",
       "      <td>125</td>\n",
       "      <td>38.2</td>\n",
       "      <td>0.233</td>\n",
       "      <td>23</td>\n",
       "      <td>0</td>\n",
       "    </tr>\n",
       "    <tr>\n",
       "      <th>2</th>\n",
       "      <td>0</td>\n",
       "      <td>145</td>\n",
       "      <td>0</td>\n",
       "      <td>0</td>\n",
       "      <td>0</td>\n",
       "      <td>44.2</td>\n",
       "      <td>0.630</td>\n",
       "      <td>31</td>\n",
       "      <td>1</td>\n",
       "    </tr>\n",
       "    <tr>\n",
       "      <th>3</th>\n",
       "      <td>0</td>\n",
       "      <td>135</td>\n",
       "      <td>68</td>\n",
       "      <td>42</td>\n",
       "      <td>250</td>\n",
       "      <td>42.3</td>\n",
       "      <td>0.365</td>\n",
       "      <td>24</td>\n",
       "      <td>1</td>\n",
       "    </tr>\n",
       "    <tr>\n",
       "      <th>4</th>\n",
       "      <td>1</td>\n",
       "      <td>139</td>\n",
       "      <td>62</td>\n",
       "      <td>41</td>\n",
       "      <td>480</td>\n",
       "      <td>40.7</td>\n",
       "      <td>0.536</td>\n",
       "      <td>21</td>\n",
       "      <td>0</td>\n",
       "    </tr>\n",
       "  </tbody>\n",
       "</table>\n",
       "</div>"
      ],
      "text/plain": [
       "   Pregnancies  Glucose  BloodPressure  SkinThickness  Insulin   BMI  \\\n",
       "0            2      138             62             35        0  33.6   \n",
       "1            0       84             82             31      125  38.2   \n",
       "2            0      145              0              0        0  44.2   \n",
       "3            0      135             68             42      250  42.3   \n",
       "4            1      139             62             41      480  40.7   \n",
       "\n",
       "   DiabetesPedigreeFunction  Age  Outcome  \n",
       "0                     0.127   47        1  \n",
       "1                     0.233   23        0  \n",
       "2                     0.630   31        1  \n",
       "3                     0.365   24        1  \n",
       "4                     0.536   21        0  "
      ]
     },
     "execution_count": 2,
     "metadata": {},
     "output_type": "execute_result"
    }
   ],
   "source": [
    "# Loading the diabetes dataset\n",
    "df = pd.read_csv(\"https://raw.githubusercontent.com/merlijn8686/diabetes/main/diabetes.csv\")\n",
    "df.head()"
   ]
  },
  {
   "cell_type": "markdown",
   "metadata": {},
   "source": [
    "## 2. Exploring the Dataset"
   ]
  },
  {
   "cell_type": "markdown",
   "metadata": {},
   "source": [
    "#### Variables\n",
    "<ul>\n",
    "    <li>Pregnancies: Number of times pregnant</li>\n",
    "    <li>Glucose: Plasma glucose concentration a 2 hours in an oral glucose tolerance test</li>\n",
    "    <li>BloodPressure: Diastolic blood pressure(mm Hg)</li>\n",
    "    <li>SkinThickness: Triceps skin fold thickness(mm)</li>\n",
    "    <li>Insulin: 2-Hour serum insulin(mu U/ml)</li>\n",
    "    <li>BMI: Body mass index (weight in kg/(height in m)^2)</li>\n",
    "    <li>DiabetesPedigreeFunction: Diabetes pedigree function</li>\n",
    "    <li>Age: Age (years)</li>\n",
    "    <li>Outcome: Class variable (0 or 1)</li>\n",
    "</ul>"
   ]
  },
  {
   "cell_type": "markdown",
   "metadata": {},
   "source": [
    "#### Overview"
   ]
  },
  {
   "cell_type": "code",
   "execution_count": 3,
   "metadata": {},
   "outputs": [
    {
     "data": {
      "text/html": [
       "<div>\n",
       "<style scoped>\n",
       "    .dataframe tbody tr th:only-of-type {\n",
       "        vertical-align: middle;\n",
       "    }\n",
       "\n",
       "    .dataframe tbody tr th {\n",
       "        vertical-align: top;\n",
       "    }\n",
       "\n",
       "    .dataframe thead th {\n",
       "        text-align: right;\n",
       "    }\n",
       "</style>\n",
       "<table border=\"1\" class=\"dataframe\">\n",
       "  <thead>\n",
       "    <tr style=\"text-align: right;\">\n",
       "      <th></th>\n",
       "      <th>Pregnancies</th>\n",
       "      <th>Glucose</th>\n",
       "      <th>BloodPressure</th>\n",
       "      <th>SkinThickness</th>\n",
       "      <th>Insulin</th>\n",
       "      <th>BMI</th>\n",
       "      <th>DiabetesPedigreeFunction</th>\n",
       "      <th>Age</th>\n",
       "      <th>Outcome</th>\n",
       "    </tr>\n",
       "  </thead>\n",
       "  <tbody>\n",
       "    <tr>\n",
       "      <th>count</th>\n",
       "      <td>2000.000000</td>\n",
       "      <td>2000.000000</td>\n",
       "      <td>2000.000000</td>\n",
       "      <td>2000.000000</td>\n",
       "      <td>2000.000000</td>\n",
       "      <td>2000.000000</td>\n",
       "      <td>2000.000000</td>\n",
       "      <td>2000.000000</td>\n",
       "      <td>2000.000000</td>\n",
       "    </tr>\n",
       "    <tr>\n",
       "      <th>mean</th>\n",
       "      <td>3.703500</td>\n",
       "      <td>121.182500</td>\n",
       "      <td>69.145500</td>\n",
       "      <td>20.935000</td>\n",
       "      <td>80.254000</td>\n",
       "      <td>32.193000</td>\n",
       "      <td>0.470930</td>\n",
       "      <td>33.090500</td>\n",
       "      <td>0.342000</td>\n",
       "    </tr>\n",
       "    <tr>\n",
       "      <th>std</th>\n",
       "      <td>3.306063</td>\n",
       "      <td>32.068636</td>\n",
       "      <td>19.188315</td>\n",
       "      <td>16.103243</td>\n",
       "      <td>111.180534</td>\n",
       "      <td>8.149901</td>\n",
       "      <td>0.323553</td>\n",
       "      <td>11.786423</td>\n",
       "      <td>0.474498</td>\n",
       "    </tr>\n",
       "    <tr>\n",
       "      <th>min</th>\n",
       "      <td>0.000000</td>\n",
       "      <td>0.000000</td>\n",
       "      <td>0.000000</td>\n",
       "      <td>0.000000</td>\n",
       "      <td>0.000000</td>\n",
       "      <td>0.000000</td>\n",
       "      <td>0.078000</td>\n",
       "      <td>21.000000</td>\n",
       "      <td>0.000000</td>\n",
       "    </tr>\n",
       "    <tr>\n",
       "      <th>25%</th>\n",
       "      <td>1.000000</td>\n",
       "      <td>99.000000</td>\n",
       "      <td>63.500000</td>\n",
       "      <td>0.000000</td>\n",
       "      <td>0.000000</td>\n",
       "      <td>27.375000</td>\n",
       "      <td>0.244000</td>\n",
       "      <td>24.000000</td>\n",
       "      <td>0.000000</td>\n",
       "    </tr>\n",
       "    <tr>\n",
       "      <th>50%</th>\n",
       "      <td>3.000000</td>\n",
       "      <td>117.000000</td>\n",
       "      <td>72.000000</td>\n",
       "      <td>23.000000</td>\n",
       "      <td>40.000000</td>\n",
       "      <td>32.300000</td>\n",
       "      <td>0.376000</td>\n",
       "      <td>29.000000</td>\n",
       "      <td>0.000000</td>\n",
       "    </tr>\n",
       "    <tr>\n",
       "      <th>75%</th>\n",
       "      <td>6.000000</td>\n",
       "      <td>141.000000</td>\n",
       "      <td>80.000000</td>\n",
       "      <td>32.000000</td>\n",
       "      <td>130.000000</td>\n",
       "      <td>36.800000</td>\n",
       "      <td>0.624000</td>\n",
       "      <td>40.000000</td>\n",
       "      <td>1.000000</td>\n",
       "    </tr>\n",
       "    <tr>\n",
       "      <th>max</th>\n",
       "      <td>17.000000</td>\n",
       "      <td>199.000000</td>\n",
       "      <td>122.000000</td>\n",
       "      <td>110.000000</td>\n",
       "      <td>744.000000</td>\n",
       "      <td>80.600000</td>\n",
       "      <td>2.420000</td>\n",
       "      <td>81.000000</td>\n",
       "      <td>1.000000</td>\n",
       "    </tr>\n",
       "  </tbody>\n",
       "</table>\n",
       "</div>"
      ],
      "text/plain": [
       "       Pregnancies      Glucose  BloodPressure  SkinThickness      Insulin  \\\n",
       "count  2000.000000  2000.000000    2000.000000    2000.000000  2000.000000   \n",
       "mean      3.703500   121.182500      69.145500      20.935000    80.254000   \n",
       "std       3.306063    32.068636      19.188315      16.103243   111.180534   \n",
       "min       0.000000     0.000000       0.000000       0.000000     0.000000   \n",
       "25%       1.000000    99.000000      63.500000       0.000000     0.000000   \n",
       "50%       3.000000   117.000000      72.000000      23.000000    40.000000   \n",
       "75%       6.000000   141.000000      80.000000      32.000000   130.000000   \n",
       "max      17.000000   199.000000     122.000000     110.000000   744.000000   \n",
       "\n",
       "               BMI  DiabetesPedigreeFunction          Age      Outcome  \n",
       "count  2000.000000               2000.000000  2000.000000  2000.000000  \n",
       "mean     32.193000                  0.470930    33.090500     0.342000  \n",
       "std       8.149901                  0.323553    11.786423     0.474498  \n",
       "min       0.000000                  0.078000    21.000000     0.000000  \n",
       "25%      27.375000                  0.244000    24.000000     0.000000  \n",
       "50%      32.300000                  0.376000    29.000000     0.000000  \n",
       "75%      36.800000                  0.624000    40.000000     1.000000  \n",
       "max      80.600000                  2.420000    81.000000     1.000000  "
      ]
     },
     "execution_count": 3,
     "metadata": {},
     "output_type": "execute_result"
    }
   ],
   "source": [
    "df.describe()"
   ]
  },
  {
   "cell_type": "code",
   "execution_count": 4,
   "metadata": {},
   "outputs": [
    {
     "name": "stdout",
     "output_type": "stream",
     "text": [
      "<class 'pandas.core.frame.DataFrame'>\n",
      "RangeIndex: 2000 entries, 0 to 1999\n",
      "Data columns (total 9 columns):\n",
      " #   Column                    Non-Null Count  Dtype  \n",
      "---  ------                    --------------  -----  \n",
      " 0   Pregnancies               2000 non-null   int64  \n",
      " 1   Glucose                   2000 non-null   int64  \n",
      " 2   BloodPressure             2000 non-null   int64  \n",
      " 3   SkinThickness             2000 non-null   int64  \n",
      " 4   Insulin                   2000 non-null   int64  \n",
      " 5   BMI                       2000 non-null   float64\n",
      " 6   DiabetesPedigreeFunction  2000 non-null   float64\n",
      " 7   Age                       2000 non-null   int64  \n",
      " 8   Outcome                   2000 non-null   int64  \n",
      "dtypes: float64(2), int64(7)\n",
      "memory usage: 140.8 KB\n"
     ]
    }
   ],
   "source": [
    "df.info()"
   ]
  },
  {
   "cell_type": "markdown",
   "metadata": {},
   "source": [
    "#### Missings"
   ]
  },
  {
   "cell_type": "code",
   "execution_count": 5,
   "metadata": {},
   "outputs": [],
   "source": [
    "# On first hand it doesn't look like there is missing data, but a bloodpressure or glucose level of zero can't be true. \n",
    "# So we have to replace the zeros for NaN in columns where zeros are not possible"
   ]
  },
  {
   "cell_type": "code",
   "execution_count": 6,
   "metadata": {},
   "outputs": [
    {
     "name": "stdout",
     "output_type": "stream",
     "text": [
      "<class 'pandas.core.frame.DataFrame'>\n",
      "RangeIndex: 2000 entries, 0 to 1999\n",
      "Data columns (total 9 columns):\n",
      " #   Column                    Non-Null Count  Dtype  \n",
      "---  ------                    --------------  -----  \n",
      " 0   Pregnancies               2000 non-null   int64  \n",
      " 1   Glucose                   1987 non-null   float64\n",
      " 2   BloodPressure             1910 non-null   float64\n",
      " 3   SkinThickness             1427 non-null   float64\n",
      " 4   Insulin                   1044 non-null   float64\n",
      " 5   BMI                       1972 non-null   float64\n",
      " 6   DiabetesPedigreeFunction  2000 non-null   float64\n",
      " 7   Age                       2000 non-null   int64  \n",
      " 8   Outcome                   2000 non-null   int64  \n",
      "dtypes: float64(6), int64(3)\n",
      "memory usage: 140.8 KB\n"
     ]
    }
   ],
   "source": [
    "columns = ['Glucose', 'BloodPressure', 'SkinThickness', 'Insulin', 'BMI']\n",
    "\n",
    "for x in columns:\n",
    "    df[x].replace(0, np.NaN, inplace=True)\n",
    "    \n",
    "df.info()"
   ]
  },
  {
   "cell_type": "code",
   "execution_count": 7,
   "metadata": {},
   "outputs": [],
   "source": [
    "# Now we see we have a lot more missings\n",
    "# Almost 50% of the Insulin data is missing. This is way too much\n",
    "# So although we know insulin can be a big predictor of diabetes, we have to delete this column"
   ]
  },
  {
   "cell_type": "code",
   "execution_count": 8,
   "metadata": {},
   "outputs": [
    {
     "data": {
      "text/html": [
       "<div>\n",
       "<style scoped>\n",
       "    .dataframe tbody tr th:only-of-type {\n",
       "        vertical-align: middle;\n",
       "    }\n",
       "\n",
       "    .dataframe tbody tr th {\n",
       "        vertical-align: top;\n",
       "    }\n",
       "\n",
       "    .dataframe thead th {\n",
       "        text-align: right;\n",
       "    }\n",
       "</style>\n",
       "<table border=\"1\" class=\"dataframe\">\n",
       "  <thead>\n",
       "    <tr style=\"text-align: right;\">\n",
       "      <th></th>\n",
       "      <th>Pregnancies</th>\n",
       "      <th>Glucose</th>\n",
       "      <th>BloodPressure</th>\n",
       "      <th>SkinThickness</th>\n",
       "      <th>BMI</th>\n",
       "      <th>DiabetesPedigreeFunction</th>\n",
       "      <th>Age</th>\n",
       "      <th>Outcome</th>\n",
       "    </tr>\n",
       "  </thead>\n",
       "  <tbody>\n",
       "    <tr>\n",
       "      <th>0</th>\n",
       "      <td>2</td>\n",
       "      <td>138.0</td>\n",
       "      <td>62.0</td>\n",
       "      <td>35.0</td>\n",
       "      <td>33.6</td>\n",
       "      <td>0.127</td>\n",
       "      <td>47</td>\n",
       "      <td>1</td>\n",
       "    </tr>\n",
       "    <tr>\n",
       "      <th>1</th>\n",
       "      <td>0</td>\n",
       "      <td>84.0</td>\n",
       "      <td>82.0</td>\n",
       "      <td>31.0</td>\n",
       "      <td>38.2</td>\n",
       "      <td>0.233</td>\n",
       "      <td>23</td>\n",
       "      <td>0</td>\n",
       "    </tr>\n",
       "    <tr>\n",
       "      <th>2</th>\n",
       "      <td>0</td>\n",
       "      <td>145.0</td>\n",
       "      <td>NaN</td>\n",
       "      <td>NaN</td>\n",
       "      <td>44.2</td>\n",
       "      <td>0.630</td>\n",
       "      <td>31</td>\n",
       "      <td>1</td>\n",
       "    </tr>\n",
       "    <tr>\n",
       "      <th>3</th>\n",
       "      <td>0</td>\n",
       "      <td>135.0</td>\n",
       "      <td>68.0</td>\n",
       "      <td>42.0</td>\n",
       "      <td>42.3</td>\n",
       "      <td>0.365</td>\n",
       "      <td>24</td>\n",
       "      <td>1</td>\n",
       "    </tr>\n",
       "    <tr>\n",
       "      <th>4</th>\n",
       "      <td>1</td>\n",
       "      <td>139.0</td>\n",
       "      <td>62.0</td>\n",
       "      <td>41.0</td>\n",
       "      <td>40.7</td>\n",
       "      <td>0.536</td>\n",
       "      <td>21</td>\n",
       "      <td>0</td>\n",
       "    </tr>\n",
       "  </tbody>\n",
       "</table>\n",
       "</div>"
      ],
      "text/plain": [
       "   Pregnancies  Glucose  BloodPressure  SkinThickness   BMI  \\\n",
       "0            2    138.0           62.0           35.0  33.6   \n",
       "1            0     84.0           82.0           31.0  38.2   \n",
       "2            0    145.0            NaN            NaN  44.2   \n",
       "3            0    135.0           68.0           42.0  42.3   \n",
       "4            1    139.0           62.0           41.0  40.7   \n",
       "\n",
       "   DiabetesPedigreeFunction  Age  Outcome  \n",
       "0                     0.127   47        1  \n",
       "1                     0.233   23        0  \n",
       "2                     0.630   31        1  \n",
       "3                     0.365   24        1  \n",
       "4                     0.536   21        0  "
      ]
     },
     "execution_count": 8,
     "metadata": {},
     "output_type": "execute_result"
    }
   ],
   "source": [
    "dfcleaned = df.drop(\"Insulin\", axis=1)\n",
    "dfcleaned.head()"
   ]
  },
  {
   "cell_type": "code",
   "execution_count": 9,
   "metadata": {},
   "outputs": [],
   "source": [
    "# We still have some 4 columns with missings. Let's have a look if there are rows with multiple missings. \n",
    "# If there are more than 2 missings we will also drop them"
   ]
  },
  {
   "cell_type": "code",
   "execution_count": 10,
   "metadata": {},
   "outputs": [
    {
     "data": {
      "text/plain": [
       "(19,)"
      ]
     },
     "execution_count": 10,
     "metadata": {},
     "output_type": "execute_result"
    }
   ],
   "source": [
    "dfmiss = dfcleaned.loc[dfcleaned.isnull().sum(1)>2].index\n",
    "dfmiss.shape"
   ]
  },
  {
   "cell_type": "code",
   "execution_count": 11,
   "metadata": {},
   "outputs": [],
   "source": [
    "dfcleaned = dfcleaned.drop(dfmiss, axis=0)"
   ]
  },
  {
   "cell_type": "code",
   "execution_count": 12,
   "metadata": {},
   "outputs": [
    {
     "name": "stdout",
     "output_type": "stream",
     "text": [
      "<class 'pandas.core.frame.DataFrame'>\n",
      "Int64Index: 1981 entries, 0 to 1999\n",
      "Data columns (total 8 columns):\n",
      " #   Column                    Non-Null Count  Dtype  \n",
      "---  ------                    --------------  -----  \n",
      " 0   Pregnancies               1981 non-null   int64  \n",
      " 1   Glucose                   1968 non-null   float64\n",
      " 2   BloodPressure             1910 non-null   float64\n",
      " 3   SkinThickness             1427 non-null   float64\n",
      " 4   BMI                       1972 non-null   float64\n",
      " 5   DiabetesPedigreeFunction  1981 non-null   float64\n",
      " 6   Age                       1981 non-null   int64  \n",
      " 7   Outcome                   1981 non-null   int64  \n",
      "dtypes: float64(5), int64(3)\n",
      "memory usage: 139.3 KB\n"
     ]
    }
   ],
   "source": [
    "dfcleaned.info()"
   ]
  },
  {
   "cell_type": "code",
   "execution_count": 13,
   "metadata": {},
   "outputs": [],
   "source": [
    "# For the rest of the missings we will impute the mean\n",
    "# Let's call the dataframe 'diabetes'."
   ]
  },
  {
   "cell_type": "code",
   "execution_count": 14,
   "metadata": {},
   "outputs": [
    {
     "name": "stdout",
     "output_type": "stream",
     "text": [
      "<class 'pandas.core.frame.DataFrame'>\n",
      "Int64Index: 1981 entries, 0 to 1999\n",
      "Data columns (total 8 columns):\n",
      " #   Column                    Non-Null Count  Dtype  \n",
      "---  ------                    --------------  -----  \n",
      " 0   Pregnancies               1981 non-null   int64  \n",
      " 1   Glucose                   1981 non-null   float64\n",
      " 2   BloodPressure             1981 non-null   float64\n",
      " 3   SkinThickness             1981 non-null   float64\n",
      " 4   BMI                       1981 non-null   float64\n",
      " 5   DiabetesPedigreeFunction  1981 non-null   float64\n",
      " 6   Age                       1981 non-null   int64  \n",
      " 7   Outcome                   1981 non-null   int64  \n",
      "dtypes: float64(5), int64(3)\n",
      "memory usage: 139.3 KB\n"
     ]
    }
   ],
   "source": [
    "diabetes = dfcleaned.fillna(dfcleaned.mean())\n",
    "diabetes.info()"
   ]
  },
  {
   "cell_type": "markdown",
   "metadata": {},
   "source": [
    "## 3. Data Visualization"
   ]
  },
  {
   "cell_type": "markdown",
   "metadata": {},
   "source": [
    "#### Histograms"
   ]
  },
  {
   "cell_type": "code",
   "execution_count": 15,
   "metadata": {},
   "outputs": [
    {
     "data": {
      "image/png": "[encoded data removed]",
      "text/plain": [
       "<Figure size 1008x1008 with 9 Axes>"
      ]
     },
     "metadata": {
      "needs_background": "light"
     },
     "output_type": "display_data"
    }
   ],
   "source": [
    "variables = diabetes.loc[:, diabetes.columns != 'Outcome']\n",
    "variables.hist(figsize = (14, 14))\n",
    "plt.show();"
   ]
  },
  {
   "cell_type": "markdown",
   "metadata": {},
   "source": [
    "#### Density Plots"
   ]
  },
  {
   "cell_type": "code",
   "execution_count": 16,
   "metadata": {},
   "outputs": [
    {
     "data": {
      "image/png": "[encoded data removed]",
      "text/plain": [
       "<Figure size 1296x1296 with 8 Axes>"
      ]
     },
     "metadata": {
      "needs_background": "light"
     },
     "output_type": "display_data"
    }
   ],
   "source": [
    "diabetes.plot(kind = 'density', subplots= True, layout = (4,2), sharex =False, figsize = (18, 18));"
   ]
  },
  {
   "cell_type": "markdown",
   "metadata": {},
   "source": [
    "#### Heatmap"
   ]
  },
  {
   "cell_type": "code",
   "execution_count": 17,
   "metadata": {},
   "outputs": [
    {
     "data": {
      "image/png": "[encoded data removed]",
      "text/plain": [
       "<Figure size 1440x864 with 2 Axes>"
      ]
     },
     "metadata": {
      "needs_background": "light"
     },
     "output_type": "display_data"
    }
   ],
   "source": [
    "corr = diabetes.corr()\n",
    "f, ax = plt.subplots(figsize = (20, 12))\n",
    "sns.heatmap(corr, vmax = 8, annot = True, cmap=\"Blues\");"
   ]
  },
  {
   "cell_type": "markdown",
   "metadata": {},
   "source": [
    "## 4. Model Selection"
   ]
  },
  {
   "cell_type": "markdown",
   "metadata": {},
   "source": [
    "### 4-1. Split the dataset"
   ]
  },
  {
   "cell_type": "code",
   "execution_count": 18,
   "metadata": {},
   "outputs": [],
   "source": [
    "# \"Outcome\" is the target variable, so we first start by creating y (target) and X (predictor).\n",
    "\n",
    "X = diabetes.drop([\"Outcome\"], axis = 1)\n",
    "y = diabetes[\"Outcome\"]"
   ]
  },
  {
   "cell_type": "code",
   "execution_count": 19,
   "metadata": {},
   "outputs": [],
   "source": [
    "# Creating a test and training set with a test size of 20 percent. \n",
    "\n",
    "X_train, X_test, y_train, y_test = train_test_split(X, y, \n",
    "                                                    test_size = 0.20, \n",
    "                                                    random_state = 42)\n",
    "\n",
    "# Now we will test different models"
   ]
  },
  {
   "cell_type": "markdown",
   "metadata": {},
   "source": [
    "### 4-2-1. Random Forest"
   ]
  },
  {
   "cell_type": "code",
   "execution_count": 20,
   "metadata": {},
   "outputs": [
    {
     "name": "stdout",
     "output_type": "stream",
     "text": [
      "Random Forest Accuracy Score = 0.9848866498740554\n",
      "Cross validation score = 0.7880696202531645\n"
     ]
    }
   ],
   "source": [
    "from sklearn.ensemble import RandomForestClassifier\n",
    "\n",
    "randomforest_model = RandomForestClassifier().fit(X_train, y_train)\n",
    "y_pred = randomforest_model.predict(X_test)\n",
    "print(\"Random Forest Accuracy Score = \" + str(accuracy_score(y_test, y_pred)))\n",
    "print(\"Cross validation score = \"+ str(cross_val_score(randomforest_model, X_test, y_test, cv = 5).mean()))\n"
   ]
  },
  {
   "cell_type": "code",
   "execution_count": 21,
   "metadata": {},
   "outputs": [
    {
     "name": "stdout",
     "output_type": "stream",
     "text": [
      "              precision    recall  f1-score   support\n",
      "\n",
      "           0       0.99      0.98      0.99       256\n",
      "           1       0.97      0.99      0.98       141\n",
      "\n",
      "    accuracy                           0.98       397\n",
      "   macro avg       0.98      0.99      0.98       397\n",
      "weighted avg       0.98      0.98      0.98       397\n",
      "\n"
     ]
    }
   ],
   "source": [
    "# This is a really high Accuracy Score. Let's look at the details\n",
    "\n",
    "print(classification_report(y_test, y_pred))"
   ]
  },
  {
   "cell_type": "code",
   "execution_count": 22,
   "metadata": {},
   "outputs": [],
   "source": [
    "# It looks like the model is performing good at predicting both true positives and true negatives.\n",
    "# Let's use Gridsearch to see if we can improve te model by adjusting the parameters"
   ]
  },
  {
   "cell_type": "markdown",
   "metadata": {},
   "source": [
    "### 4-2-2. Random Forest Hyperparameter Optimization"
   ]
  },
  {
   "cell_type": "code",
   "execution_count": 23,
   "metadata": {},
   "outputs": [
    {
     "name": "stdout",
     "output_type": "stream",
     "text": [
      "Fitting 5 folds for each of 135 candidates, totalling 675 fits\n"
     ]
    },
    {
     "name": "stderr",
     "output_type": "stream",
     "text": [
      "[Parallel(n_jobs=-1)]: Using backend LokyBackend with 8 concurrent workers.\n",
      "[Parallel(n_jobs=-1)]: Done  25 tasks      | elapsed:    8.8s\n",
      "[Parallel(n_jobs=-1)]: Done 146 tasks      | elapsed:   47.2s\n",
      "[Parallel(n_jobs=-1)]: Done 349 tasks      | elapsed:  2.0min\n",
      "[Parallel(n_jobs=-1)]: Done 632 tasks      | elapsed:  3.9min\n",
      "[Parallel(n_jobs=-1)]: Done 675 out of 675 | elapsed:  4.4min finished\n"
     ]
    },
    {
     "name": "stdout",
     "output_type": "stream",
     "text": [
      "Best Params: {'max_depth': 7, 'max_features': 7, 'min_samples_split': 2, 'n_estimators': 1000}\n"
     ]
    }
   ],
   "source": [
    "# First create a GridsearchCV\n",
    "\n",
    "grid_dict = {\"max_depth\": [3,5,7],\n",
    "            \"max_features\": [3,5,7],\n",
    "            \"n_estimators\": [10, 100, 250, 500, 1000],\n",
    "            \"min_samples_split\": [2,5,10]}\n",
    "\n",
    "# Fit the model\n",
    "rf_model_grid = GridSearchCV(RandomForestClassifier(), \n",
    "                           grid_dict, \n",
    "                           cv = 5, \n",
    "                           n_jobs = -1, \n",
    "                           verbose = 2) \n",
    "\n",
    "rf_model_grid.fit(X_train, y_train)\n",
    "\n",
    "# Print the best parameters\n",
    "print(\"Best Params: \" + str(rf_model_grid.best_params_))"
   ]
  },
  {
   "cell_type": "code",
   "execution_count": 24,
   "metadata": {},
   "outputs": [
    {
     "name": "stdout",
     "output_type": "stream",
     "text": [
      "Random Forest Tuned Accuracy Score = 0.9848866498740554\n",
      "Cross validation score = 0.755253164556962\n",
      "              precision    recall  f1-score   support\n",
      "\n",
      "           0       0.99      0.98      0.99       256\n",
      "           1       0.97      0.99      0.98       141\n",
      "\n",
      "    accuracy                           0.98       397\n",
      "   macro avg       0.98      0.99      0.98       397\n",
      "weighted avg       0.98      0.98      0.98       397\n",
      "\n"
     ]
    }
   ],
   "source": [
    "# Now we will use the best parameters and see if our accuracy has improved...\n",
    "\n",
    "rf_best_param = RandomForestClassifier(max_depth = 7, \n",
    "                                  max_features = 7, \n",
    "                                  min_samples_split = 2,\n",
    "                                  n_estimators = 500)\n",
    "\n",
    "rf_best_param.fit(X_train, y_train)\n",
    "y_pred = randomforest_model.predict(X_test)\n",
    "print(\"Random Forest Tuned Accuracy Score = \" + str(accuracy_score(y_test, y_pred)))\n",
    "print(\"Cross validation score = \"+ str(cross_val_score(rf_best_param, X_test, y_test, cv = 5).mean()))\n",
    "print(classification_report(y_test, y_pred))"
   ]
  },
  {
   "cell_type": "code",
   "execution_count": 25,
   "metadata": {},
   "outputs": [],
   "source": [
    "# We see the model didn't improve but stayed the same. That's OK, because the f1 score was really high (0.98)"
   ]
  },
  {
   "cell_type": "markdown",
   "metadata": {},
   "source": [
    "### 4-3-1. Logistic Regression"
   ]
  },
  {
   "cell_type": "code",
   "execution_count": 26,
   "metadata": {},
   "outputs": [
    {
     "name": "stdout",
     "output_type": "stream",
     "text": [
      "Logistic Regression Accuracy Score = 0.7304785894206549\n",
      "Cross validation score = 0.7325949367088607\n",
      "\n",
      "              precision    recall  f1-score   support\n",
      "\n",
      "           0       0.75      0.86      0.81       256\n",
      "           1       0.66      0.49      0.56       141\n",
      "\n",
      "    accuracy                           0.73       397\n",
      "   macro avg       0.71      0.68      0.68       397\n",
      "weighted avg       0.72      0.73      0.72       397\n",
      "\n"
     ]
    }
   ],
   "source": [
    "from sklearn.linear_model import LogisticRegression\n",
    "log_model = LogisticRegression(solver = \"liblinear\").fit(X_train,y_train)\n",
    "y_pred = log_model.predict(X_test)\n",
    "print(\"Logistic Regression Accuracy Score = \" + str(accuracy_score(y_test, y_pred)))\n",
    "print(\"Cross validation score = \"+ str(cross_val_score(log_model, X_test, y_test, cv = 5).mean()))\n",
    "print( )\n",
    "print(classification_report(y_test, y_pred))\n"
   ]
  },
  {
   "cell_type": "markdown",
   "metadata": {},
   "source": [
    "### 4-3-2. Logistic Regression Hyperparameter Optimization"
   ]
  },
  {
   "cell_type": "code",
   "execution_count": 27,
   "metadata": {},
   "outputs": [
    {
     "name": "stdout",
     "output_type": "stream",
     "text": [
      "Fitting 5 folds for each of 640 candidates, totalling 3200 fits\n"
     ]
    },
    {
     "name": "stderr",
     "output_type": "stream",
     "text": [
      "[Parallel(n_jobs=-1)]: Using backend LokyBackend with 8 concurrent workers.\n",
      "[Parallel(n_jobs=-1)]: Done  60 tasks      | elapsed:    0.3s\n",
      "[Parallel(n_jobs=-1)]: Done 528 tasks      | elapsed:   19.2s\n",
      "[Parallel(n_jobs=-1)]: Done 862 tasks      | elapsed:   37.1s\n",
      "[Parallel(n_jobs=-1)]: Done 1544 tasks      | elapsed:  1.2min\n",
      "[Parallel(n_jobs=-1)]: Done 2210 tasks      | elapsed:  1.9min\n",
      "[Parallel(n_jobs=-1)]: Done 3008 tasks      | elapsed:  2.9min\n",
      "[Parallel(n_jobs=-1)]: Done 3185 out of 3200 | elapsed:  3.1min remaining:    0.8s\n"
     ]
    },
    {
     "name": "stdout",
     "output_type": "stream",
     "text": [
      "Best Params: {'C': 1.623776739188721, 'max_iter': 100, 'penalty': 'l2', 'solver': 'liblinear'}\n"
     ]
    },
    {
     "name": "stderr",
     "output_type": "stream",
     "text": [
      "[Parallel(n_jobs=-1)]: Done 3200 out of 3200 | elapsed:  3.2min finished\n"
     ]
    }
   ],
   "source": [
    "# Create GridsearchCV and fit the model\n",
    "\n",
    "\n",
    "log_grid_dict={\"C\":np.logspace(-4,4,20), \n",
    "                \"penalty\":[\"l1\",\"l2\", \"elasticnet\", \"none\"], \n",
    "                \"max_iter\":[100, 1000, 2500, 5000],\n",
    "                \"solver\":['liblinear', 'saga']}\n",
    "\n",
    "logreg_grid=GridSearchCV(LogisticRegression(), log_grid_dict, cv=5, n_jobs=-1, verbose=True)\n",
    "\n",
    "logreg_grid.fit(X_train,y_train)\n",
    "\n",
    "# Print the best parameters\n",
    "\n",
    "print(\"Best Params: \" + str(logreg_grid.best_params_))"
   ]
  },
  {
   "cell_type": "code",
   "execution_count": 28,
   "metadata": {},
   "outputs": [
    {
     "name": "stdout",
     "output_type": "stream",
     "text": [
      "Logistic Regression Accuracy Score = 0.7355163727959698\n",
      "Cross validation score = 0.7375316455696203\n",
      "\n",
      "              precision    recall  f1-score   support\n",
      "\n",
      "           0       0.76      0.86      0.81       256\n",
      "           1       0.67      0.50      0.57       141\n",
      "\n",
      "    accuracy                           0.74       397\n",
      "   macro avg       0.71      0.68      0.69       397\n",
      "weighted avg       0.73      0.74      0.73       397\n",
      "\n"
     ]
    }
   ],
   "source": [
    "# We see that 'C' has a different value. The rest have the default value we already used before. \n",
    "# Now we will use the best parameters\n",
    "\n",
    "log_best_param = LogisticRegression(solver = \"liblinear\", C=1.623776739188721).fit(X_train,y_train)\n",
    "y_pred = log_best_param.predict(X_test)\n",
    "print(\"Logistic Regression Accuracy Score = \" + str(accuracy_score(y_test, y_pred)))\n",
    "print(\"Cross validation score = \"+ str(cross_val_score(log_best_param, X_test, y_test, cv = 5).mean()))\n",
    "print( )\n",
    "print(classification_report(y_test, y_pred))\n",
    "\n"
   ]
  },
  {
   "cell_type": "code",
   "execution_count": 29,
   "metadata": {},
   "outputs": [],
   "source": [
    "# We see that the model has improved, but the improvement is small."
   ]
  },
  {
   "cell_type": "markdown",
   "metadata": {},
   "source": [
    "### 4-4-1. k-Nearest Neighbor"
   ]
  },
  {
   "cell_type": "code",
   "execution_count": 30,
   "metadata": {},
   "outputs": [
    {
     "name": "stdout",
     "output_type": "stream",
     "text": [
      "k-Nearest Neighbor Accuracy Score = 0.7581863979848866\n",
      "Cross validation score = 0.7151582278481012\n",
      "\n",
      "              precision    recall  f1-score   support\n",
      "\n",
      "           0       0.78      0.86      0.82       256\n",
      "           1       0.70      0.57      0.62       141\n",
      "\n",
      "    accuracy                           0.76       397\n",
      "   macro avg       0.74      0.72      0.72       397\n",
      "weighted avg       0.75      0.76      0.75       397\n",
      "\n"
     ]
    }
   ],
   "source": [
    "from sklearn.neighbors import KNeighborsClassifier\n",
    "\n",
    "knn_model = KNeighborsClassifier().fit(X_train, y_train)\n",
    "y_pred = knn_model.predict(X_test)\n",
    "print(\"k-Nearest Neighbor Accuracy Score = \" + str(accuracy_score(y_test, y_pred)))\n",
    "print(\"Cross validation score = \"+ str(cross_val_score(knn_model, X_test, y_test, cv = 5).mean()))\n",
    "print( )\n",
    "print(classification_report(y_test, y_pred))"
   ]
  },
  {
   "cell_type": "markdown",
   "metadata": {},
   "source": [
    "### 4-4-2. k-Nearest Neighbor Hyperparameter Optimization"
   ]
  },
  {
   "cell_type": "code",
   "execution_count": 31,
   "metadata": {},
   "outputs": [
    {
     "name": "stdout",
     "output_type": "stream",
     "text": [
      "Fitting 5 folds for each of 5684 candidates, totalling 28420 fits\n"
     ]
    },
    {
     "name": "stderr",
     "output_type": "stream",
     "text": [
      "[Parallel(n_jobs=-1)]: Using backend LokyBackend with 8 concurrent workers.\n",
      "[Parallel(n_jobs=-1)]: Done  56 tasks      | elapsed:    0.5s\n",
      "[Parallel(n_jobs=-1)]: Done 656 tasks      | elapsed:    6.8s\n",
      "[Parallel(n_jobs=-1)]: Done 1656 tasks      | elapsed:   15.4s\n",
      "[Parallel(n_jobs=-1)]: Done 3056 tasks      | elapsed:   26.3s\n",
      "[Parallel(n_jobs=-1)]: Done 4856 tasks      | elapsed:   39.7s\n",
      "[Parallel(n_jobs=-1)]: Done 7056 tasks      | elapsed:   55.4s\n",
      "[Parallel(n_jobs=-1)]: Done 9656 tasks      | elapsed:  1.2min\n",
      "[Parallel(n_jobs=-1)]: Done 12656 tasks      | elapsed:  1.6min\n",
      "[Parallel(n_jobs=-1)]: Done 16056 tasks      | elapsed:  2.0min\n",
      "[Parallel(n_jobs=-1)]: Done 19856 tasks      | elapsed:  2.4min\n",
      "[Parallel(n_jobs=-1)]: Done 24056 tasks      | elapsed:  2.9min\n"
     ]
    },
    {
     "name": "stdout",
     "output_type": "stream",
     "text": [
      "Best Params: {'leaf_size': 1, 'n_neighbors': 16, 'p': 1, 'weights': 'distance'}\n"
     ]
    },
    {
     "name": "stderr",
     "output_type": "stream",
     "text": [
      "[Parallel(n_jobs=-1)]: Done 28420 out of 28420 | elapsed:  3.4min finished\n"
     ]
    }
   ],
   "source": [
    "# Now we will make a GridsearchCV for kNN and fit the model \n",
    "\n",
    "knn_grid_dict = {\"leaf_size\":list(range(1,50)), \n",
    "                \"n_neighbors\":list(range(1,30)), \n",
    "                \"p\":[1,2],\n",
    "                \"weights\":['uniform', 'distance'],\n",
    "                }\n",
    "\n",
    "knn_grid=GridSearchCV(KNeighborsClassifier(), knn_grid_dict, cv=5, n_jobs=-1, verbose=True)\n",
    "\n",
    "knn_grid.fit(X_train,y_train)\n",
    "\n",
    "# Print the best parameters\n",
    "print(\"Best Params: \" + str(knn_grid.best_params_))\n"
   ]
  },
  {
   "cell_type": "code",
   "execution_count": 32,
   "metadata": {},
   "outputs": [
    {
     "name": "stdout",
     "output_type": "stream",
     "text": [
      "k-Nearest Neighbor Accuracy Score = 0.9773299748110831\n",
      "Cross validation score = 0.7553164556962025\n",
      "\n",
      "              precision    recall  f1-score   support\n",
      "\n",
      "           0       0.98      0.98      0.98       256\n",
      "           1       0.97      0.96      0.97       141\n",
      "\n",
      "    accuracy                           0.98       397\n",
      "   macro avg       0.98      0.97      0.98       397\n",
      "weighted avg       0.98      0.98      0.98       397\n",
      "\n"
     ]
    }
   ],
   "source": [
    "# Now we will use these parameters to improve the model\n",
    "\n",
    "knn_best_param = KNeighborsClassifier(leaf_size=1, n_neighbors = 16, p = 1, weights='distance').fit(X_train, y_train)\n",
    "y_pred = knn_best_param.predict(X_test)\n",
    "print(\"k-Nearest Neighbor Accuracy Score = \" + str(accuracy_score(y_test, y_pred)))\n",
    "print(\"Cross validation score = \"+ str(cross_val_score(knn_best_param, X_test, y_test, cv = 5).mean()))\n",
    "print( )\n",
    "print(classification_report(y_test, y_pred))"
   ]
  },
  {
   "cell_type": "code",
   "execution_count": 33,
   "metadata": {},
   "outputs": [],
   "source": [
    "# We see we have a big improvement in our model. The f1-score has gone from 0.76 to 0.98!"
   ]
  },
  {
   "cell_type": "markdown",
   "metadata": {},
   "source": [
    "### 4-5-1. Naive Bayes"
   ]
  },
  {
   "cell_type": "code",
   "execution_count": 34,
   "metadata": {},
   "outputs": [
    {
     "name": "stdout",
     "output_type": "stream",
     "text": [
      "Naive Bayes Accuracy Score = 0.7405541561712846\n",
      "Cross validation score = 0.7276265822784811\n",
      "\n",
      "              precision    recall  f1-score   support\n",
      "\n",
      "           0       0.78      0.83      0.80       256\n",
      "           1       0.65      0.58      0.61       141\n",
      "\n",
      "    accuracy                           0.74       397\n",
      "   macro avg       0.72      0.70      0.71       397\n",
      "weighted avg       0.74      0.74      0.74       397\n",
      "\n"
     ]
    }
   ],
   "source": [
    "from sklearn.naive_bayes import GaussianNB\n",
    "\n",
    "nb_model = GaussianNB().fit(X_train, y_train)\n",
    "y_pred = nb_model.predict(X_test)\n",
    "print(\"Naive Bayes Accuracy Score = \" + str(accuracy_score(y_test, y_pred)))\n",
    "print(\"Cross validation score = \"+ str(cross_val_score(nb_model, X_test, y_test, cv = 5).mean()))\n",
    "print( )\n",
    "print(classification_report(y_test, y_pred))"
   ]
  },
  {
   "cell_type": "markdown",
   "metadata": {},
   "source": [
    "### 4-5-2. Naive Bayes Hyperparameter Optimization"
   ]
  },
  {
   "cell_type": "code",
   "execution_count": 35,
   "metadata": {},
   "outputs": [
    {
     "name": "stdout",
     "output_type": "stream",
     "text": [
      "Fitting 5 folds for each of 100 candidates, totalling 500 fits\n"
     ]
    },
    {
     "name": "stderr",
     "output_type": "stream",
     "text": [
      "[Parallel(n_jobs=-1)]: Using backend LokyBackend with 8 concurrent workers.\n",
      "[Parallel(n_jobs=-1)]: Done  56 tasks      | elapsed:    0.2s\n"
     ]
    },
    {
     "name": "stdout",
     "output_type": "stream",
     "text": [
      "Best Params: {'var_smoothing': 0.012328467394420659}\n"
     ]
    },
    {
     "name": "stderr",
     "output_type": "stream",
     "text": [
      "[Parallel(n_jobs=-1)]: Done 500 out of 500 | elapsed:    1.1s finished\n"
     ]
    }
   ],
   "source": [
    "# Now we will make a GridsearchCV for NB and fit the model, altough GaussianNB hasn't got much parameters to tune.\n",
    "\n",
    "nb_grid_dict = {'var_smoothing': np.logspace(0,-9, num=100)}\n",
    "nb_grid=GridSearchCV(GaussianNB(), nb_grid_dict, cv=5, n_jobs=-1, verbose=True)\n",
    "\n",
    "nb_grid.fit(X_train,y_train)\n",
    "\n",
    "# Print the best parameters\n",
    "print(\"Best Params: \" + str(nb_grid.best_params_))"
   ]
  },
  {
   "cell_type": "code",
   "execution_count": 36,
   "metadata": {},
   "outputs": [
    {
     "name": "stdout",
     "output_type": "stream",
     "text": [
      "Naive Bayes Accuracy Score = 0.7481108312342569\n",
      "Cross validation score = 0.7401898734177215\n",
      "\n",
      "              precision    recall  f1-score   support\n",
      "\n",
      "           0       0.78      0.85      0.81       256\n",
      "           1       0.68      0.56      0.61       141\n",
      "\n",
      "    accuracy                           0.75       397\n",
      "   macro avg       0.73      0.71      0.71       397\n",
      "weighted avg       0.74      0.75      0.74       397\n",
      "\n"
     ]
    }
   ],
   "source": [
    "# Now we will use the parameter to improve the model\n",
    "\n",
    "nb_best_param = GaussianNB(var_smoothing=0.012328467394420659).fit(X_train, y_train)\n",
    "y_pred = nb_best_param.predict(X_test)\n",
    "print(\"Naive Bayes Accuracy Score = \" + str(accuracy_score(y_test, y_pred)))\n",
    "print(\"Cross validation score = \"+ str(cross_val_score(nb_best_param, X_test, y_test, cv = 5).mean()))\n",
    "print( )\n",
    "print(classification_report(y_test, y_pred))"
   ]
  },
  {
   "cell_type": "code",
   "execution_count": 37,
   "metadata": {},
   "outputs": [],
   "source": [
    "# The f1-score has slightly improved with 0.01."
   ]
  },
  {
   "cell_type": "markdown",
   "metadata": {},
   "source": [
    "### 4-6-1. Gradient Boosting Model"
   ]
  },
  {
   "cell_type": "code",
   "execution_count": 38,
   "metadata": {},
   "outputs": [
    {
     "name": "stdout",
     "output_type": "stream",
     "text": [
      "Gradient Boosting Accuracy Score = 0.8312342569269522\n",
      "Cross validation score = 0.7603481012658228\n",
      "\n",
      "              precision    recall  f1-score   support\n",
      "\n",
      "           0       0.84      0.91      0.87       256\n",
      "           1       0.81      0.69      0.74       141\n",
      "\n",
      "    accuracy                           0.83       397\n",
      "   macro avg       0.82      0.80      0.81       397\n",
      "weighted avg       0.83      0.83      0.83       397\n",
      "\n"
     ]
    }
   ],
   "source": [
    "from sklearn.ensemble import GradientBoostingClassifier\n",
    "\n",
    "gbm_model = GradientBoostingClassifier().fit(X_train, y_train)\n",
    "y_pred = gbm_model.predict(X_test)\n",
    "print(\"Gradient Boosting Accuracy Score = \" + str(accuracy_score(y_test, y_pred)))\n",
    "print(\"Cross validation score = \"+ str(cross_val_score(gbm_model, X_test, y_test, cv = 5).mean()))\n",
    "print( )\n",
    "print(classification_report(y_test, y_pred))"
   ]
  },
  {
   "cell_type": "markdown",
   "metadata": {},
   "source": [
    "### 4-6-2 Gradient Boosting Model Hyperparameter Optimization"
   ]
  },
  {
   "cell_type": "code",
   "execution_count": 39,
   "metadata": {},
   "outputs": [
    {
     "name": "stdout",
     "output_type": "stream",
     "text": [
      "Fitting 5 folds for each of 80 candidates, totalling 400 fits\n"
     ]
    },
    {
     "name": "stderr",
     "output_type": "stream",
     "text": [
      "[Parallel(n_jobs=-1)]: Using backend LokyBackend with 8 concurrent workers.\n",
      "[Parallel(n_jobs=-1)]: Done  34 tasks      | elapsed:    2.4s\n",
      "[Parallel(n_jobs=-1)]: Done 184 tasks      | elapsed:   25.2s\n",
      "[Parallel(n_jobs=-1)]: Done 400 out of 400 | elapsed:   58.7s finished\n"
     ]
    },
    {
     "name": "stdout",
     "output_type": "stream",
     "text": [
      "Best Params: {'learning_rate': 0.1, 'max_depth': 10, 'min_samples_split': 20}\n"
     ]
    }
   ],
   "source": [
    "# Now we will make a GridsearchCV for Gradient Boosting and fit the model.\n",
    "\n",
    "gbm_grid_dict = {'learning_rate':[0.01, 0.05, 0.1, 0.5, 1], \n",
    "                  'min_samples_split':[2,5,10,20], \n",
    "                  'max_depth':[2,3,5,10]}\n",
    "\n",
    "gbm_grid=GridSearchCV(GradientBoostingClassifier(), gbm_grid_dict, cv=5, n_jobs=-1, verbose=True)\n",
    "\n",
    "gbm_grid.fit(X_train,y_train)\n",
    "\n",
    "# Print the best parameters\n",
    "print(\"Best Params: \" + str(gbm_grid.best_params_))"
   ]
  },
  {
   "cell_type": "code",
   "execution_count": 40,
   "metadata": {},
   "outputs": [
    {
     "name": "stdout",
     "output_type": "stream",
     "text": [
      "Gradient Boosting Accuracy Score = 0.9596977329974811\n",
      "Cross validation score = 0.7603164556962024\n",
      "\n",
      "              precision    recall  f1-score   support\n",
      "\n",
      "           0       0.98      0.96      0.97       256\n",
      "           1       0.93      0.96      0.94       141\n",
      "\n",
      "    accuracy                           0.96       397\n",
      "   macro avg       0.95      0.96      0.96       397\n",
      "weighted avg       0.96      0.96      0.96       397\n",
      "\n"
     ]
    }
   ],
   "source": [
    "# Now we will use the parameter to improve the model\n",
    "\n",
    "gbm_best_param = GradientBoostingClassifier(learning_rate=0.1, max_depth=10, min_samples_split=20).fit(X_train, y_train)\n",
    "y_pred = gbm_best_param.predict(X_test)\n",
    "print(\"Gradient Boosting Accuracy Score = \" + str(accuracy_score(y_test, y_pred)))\n",
    "print(\"Cross validation score = \"+ str(cross_val_score(gbm_best_param, X_test, y_test, cv = 5).mean()))\n",
    "print( )\n",
    "print(classification_report(y_test, y_pred))"
   ]
  },
  {
   "cell_type": "code",
   "execution_count": 41,
   "metadata": {},
   "outputs": [],
   "source": [
    "# We see that tuning the parameters improved the model with an f1-score of 0.96!"
   ]
  },
  {
   "cell_type": "markdown",
   "metadata": {},
   "source": [
    "### 4-7-1. Support Vector Machine Model"
   ]
  },
  {
   "cell_type": "code",
   "execution_count": 42,
   "metadata": {},
   "outputs": [
    {
     "name": "stdout",
     "output_type": "stream",
     "text": [
      "Support Vector Machine Accuracy Score = 0.7229219143576826\n",
      "Cross validation score = 0.7401582278481013\n",
      "\n",
      "              precision    recall  f1-score   support\n",
      "\n",
      "           0       0.75      0.86      0.80       256\n",
      "           1       0.65      0.48      0.55       141\n",
      "\n",
      "    accuracy                           0.72       397\n",
      "   macro avg       0.70      0.67      0.67       397\n",
      "weighted avg       0.71      0.72      0.71       397\n",
      "\n"
     ]
    }
   ],
   "source": [
    "from sklearn.svm import SVC\n",
    "\n",
    "svm_model = SVC(kernel = \"linear\").fit(X_train, y_train)\n",
    "y_pred = svm_model.predict(X_test)\n",
    "print(\"Support Vector Machine Accuracy Score = \" + str(accuracy_score(y_test, y_pred)))\n",
    "print(\"Cross validation score = \"+ str(cross_val_score(svm_model, X_test, y_test, cv = 5).mean()))\n",
    "print( )\n",
    "print(classification_report(y_test, y_pred))"
   ]
  },
  {
   "cell_type": "markdown",
   "metadata": {},
   "source": [
    "### 4-7-2. Support Vector Machine Model Hyperparameter Optimization"
   ]
  },
  {
   "cell_type": "code",
   "execution_count": 43,
   "metadata": {},
   "outputs": [
    {
     "name": "stdout",
     "output_type": "stream",
     "text": [
      "Fitting 5 folds for each of 8 candidates, totalling 40 fits\n"
     ]
    },
    {
     "name": "stderr",
     "output_type": "stream",
     "text": [
      "[Parallel(n_jobs=-1)]: Using backend LokyBackend with 8 concurrent workers.\n",
      "[Parallel(n_jobs=-1)]: Done  40 out of  40 | elapsed:   12.0s finished\n"
     ]
    },
    {
     "name": "stdout",
     "output_type": "stream",
     "text": [
      "Best Params: {'C': 1, 'gamma': 1, 'kernel': 'rbf'}\n"
     ]
    }
   ],
   "source": [
    "# Now we will make a GridsearchCV for Support Vector Machine and fit the model.\n",
    "# We can't try too much different parameters, because with a SVM model this will take a lot of time.\n",
    "\n",
    "svm_grid_dict = {'C': [0.1, 1], \n",
    "                 'gamma': [1,0.1],\n",
    "                 'kernel': ['linear', 'rbf']}\n",
    "\n",
    "svm_grid=GridSearchCV(SVC(), svm_grid_dict, cv=5, n_jobs=-1, verbose=True)\n",
    "\n",
    "svm_grid.fit(X_train,y_train)\n",
    "\n",
    "# Print the best parameters\n",
    "print(\"Best Params: \" + str(svm_grid.best_params_))"
   ]
  },
  {
   "cell_type": "code",
   "execution_count": 44,
   "metadata": {},
   "outputs": [
    {
     "name": "stdout",
     "output_type": "stream",
     "text": [
      "Support Vector Machine Model Accuracy Score = 0.982367758186398\n",
      "Cross validation score = 0.7456012658227849\n",
      "\n",
      "              precision    recall  f1-score   support\n",
      "\n",
      "           0       0.97      1.00      0.99       256\n",
      "           1       1.00      0.95      0.97       141\n",
      "\n",
      "    accuracy                           0.98       397\n",
      "   macro avg       0.99      0.98      0.98       397\n",
      "weighted avg       0.98      0.98      0.98       397\n",
      "\n"
     ]
    }
   ],
   "source": [
    "# Now we will use the parameter to improve the model\n",
    "\n",
    "svm_best_param = SVC(C = 1, gamma = 1, kernel = 'rbf').fit(X_train, y_train)\n",
    "y_pred = svm_best_param.predict(X_test)\n",
    "print(\"Support Vector Machine Model Accuracy Score = \" + str(accuracy_score(y_test, y_pred)))\n",
    "print(\"Cross validation score = \"+ str(cross_val_score(svm_best_param, X_test, y_test, cv = 5).mean()))\n",
    "print( )\n",
    "print(classification_report(y_test, y_pred))"
   ]
  },
  {
   "cell_type": "code",
   "execution_count": 45,
   "metadata": {},
   "outputs": [],
   "source": [
    "# Our f1-score went from 0.72 to 0.98, which is a big improvement!"
   ]
  },
  {
   "cell_type": "markdown",
   "metadata": {},
   "source": [
    "###  5. Conslusion"
   ]
  },
  {
   "cell_type": "markdown",
   "metadata": {},
   "source": [
    "##### After we have tested and tried to improve all models we can come to the following conclusion"
   ]
  },
  {
   "cell_type": "markdown",
   "metadata": {},
   "source": [
    "<ul>\n",
    "    <li>There a 3 models with a f1-score of 0.98 (Random Forest, kNN and SVM)</li>\n",
    "    <li>Since the Random Forest model has a slightly better score in predicting true positives, this model is the best option </li>\n",
    "    <li>For further improvements we can try to scale the data first</li>\n",
    "    <li>What also can influence the outcomes is the difference in numbers of patients with and without the disease</li>\n",
    "    <li>We also deleted the predictor 'Insulin', because there were too much missings. More complete data would improve the model.</li>\n",
    "\n",
    "</ul>"
   ]
  }
 ],
 "metadata": {
  "kernelspec": {
   "display_name": "Python 3",
   "language": "python",
   "name": "python3"
  },
  "language_info": {
   "codemirror_mode": {
    "name": "ipython",
    "version": 3
   },
   "file_extension": ".py",
   "mimetype": "text/x-python",
   "name": "python",
   "nbconvert_exporter": "python",
   "pygments_lexer": "ipython3",
   "version": "3.8.7"
  }
 },
 "nbformat": 4,
 "nbformat_minor": 4
}
